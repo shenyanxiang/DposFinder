{
 "cells": [
  {
   "cell_type": "code",
   "execution_count": 1,
   "metadata": {},
   "outputs": [
    {
     "name": "stdout",
     "output_type": "stream",
     "text": [
      "Requirement already satisfied: nglview in /public/shenyx/miniconda3/envs/pytorch/lib/python3.7/site-packages (3.0.8)\n",
      "Requirement already satisfied: ipywidgets>=7 in /public/shenyx/miniconda3/envs/pytorch/lib/python3.7/site-packages (from nglview) (8.1.1)\n",
      "Requirement already satisfied: jupyterlab-widgets in /public/shenyx/miniconda3/envs/pytorch/lib/python3.7/site-packages (from nglview) (3.0.9)\n",
      "Requirement already satisfied: numpy in /public/shenyx/miniconda3/envs/pytorch/lib/python3.7/site-packages (from nglview) (1.21.6)\n",
      "Requirement already satisfied: comm>=0.1.3 in /public/shenyx/miniconda3/envs/pytorch/lib/python3.7/site-packages (from ipywidgets>=7->nglview) (0.1.4)\n",
      "Requirement already satisfied: ipython>=6.1.0 in /public/shenyx/miniconda3/envs/pytorch/lib/python3.7/site-packages (from ipywidgets>=7->nglview) (7.33.0)\n",
      "Requirement already satisfied: traitlets>=4.3.1 in /public/shenyx/miniconda3/envs/pytorch/lib/python3.7/site-packages (from ipywidgets>=7->nglview) (5.9.0)\n",
      "Requirement already satisfied: widgetsnbextension~=4.0.9 in /public/shenyx/miniconda3/envs/pytorch/lib/python3.7/site-packages (from ipywidgets>=7->nglview) (4.0.9)\n",
      "Requirement already satisfied: numpy in /public/shenyx/miniconda3/envs/pytorch/lib/python3.7/site-packages (from nglview) (1.21.6)\n",
      "Requirement already satisfied: comm>=0.1.3 in /public/shenyx/miniconda3/envs/pytorch/lib/python3.7/site-packages (from ipywidgets>=7->nglview) (0.1.4)\n",
      "Requirement already satisfied: ipython>=6.1.0 in /public/shenyx/miniconda3/envs/pytorch/lib/python3.7/site-packages (from ipywidgets>=7->nglview) (7.33.0)\n",
      "Requirement already satisfied: traitlets>=4.3.1 in /public/shenyx/miniconda3/envs/pytorch/lib/python3.7/site-packages (from ipywidgets>=7->nglview) (5.9.0)\n",
      "Requirement already satisfied: widgetsnbextension~=4.0.9 in /public/shenyx/miniconda3/envs/pytorch/lib/python3.7/site-packages (from ipywidgets>=7->nglview) (4.0.9)\n",
      "Requirement already satisfied: setuptools>=18.5 in /public/shenyx/miniconda3/envs/pytorch/lib/python3.7/site-packages (from ipython>=6.1.0->ipywidgets>=7->nglview) (68.0.0)\n",
      "Requirement already satisfied: jedi>=0.16 in /public/shenyx/miniconda3/envs/pytorch/lib/python3.7/site-packages (from ipython>=6.1.0->ipywidgets>=7->nglview) (0.18.2)\n",
      "Requirement already satisfied: decorator in /public/shenyx/miniconda3/envs/pytorch/lib/python3.7/site-packages (from ipython>=6.1.0->ipywidgets>=7->nglview) (5.1.1)\n",
      "Requirement already satisfied: pickleshare in /public/shenyx/miniconda3/envs/pytorch/lib/python3.7/site-packages (from ipython>=6.1.0->ipywidgets>=7->nglview) (0.7.5)\n",
      "Requirement already satisfied: prompt-toolkit!=3.0.0,!=3.0.1,<3.1.0,>=2.0.0 in /public/shenyx/miniconda3/envs/pytorch/lib/python3.7/site-packages (from ipython>=6.1.0->ipywidgets>=7->nglview) (3.0.39)\n",
      "Requirement already satisfied: pygments in /public/shenyx/miniconda3/envs/pytorch/lib/python3.7/site-packages (from ipython>=6.1.0->ipywidgets>=7->nglview) (2.15.1)\n",
      "Requirement already satisfied: backcall in /public/shenyx/miniconda3/envs/pytorch/lib/python3.7/site-packages (from ipython>=6.1.0->ipywidgets>=7->nglview) (0.2.0)\n",
      "Requirement already satisfied: matplotlib-inline in /public/shenyx/miniconda3/envs/pytorch/lib/python3.7/site-packages (from ipython>=6.1.0->ipywidgets>=7->nglview) (0.1.6)\n",
      "Requirement already satisfied: pexpect>4.3 in /public/shenyx/miniconda3/envs/pytorch/lib/python3.7/site-packages (from ipython>=6.1.0->ipywidgets>=7->nglview) (4.8.0)\n",
      "Requirement already satisfied: parso<0.9.0,>=0.8.0 in /public/shenyx/miniconda3/envs/pytorch/lib/python3.7/site-packages (from jedi>=0.16->ipython>=6.1.0->ipywidgets>=7->nglview) (0.8.3)\n",
      "Requirement already satisfied: ptyprocess>=0.5 in /public/shenyx/miniconda3/envs/pytorch/lib/python3.7/site-packages (from pexpect>4.3->ipython>=6.1.0->ipywidgets>=7->nglview) (0.7.0)\n",
      "Requirement already satisfied: wcwidth in /public/shenyx/miniconda3/envs/pytorch/lib/python3.7/site-packages (from prompt-toolkit!=3.0.0,!=3.0.1,<3.1.0,>=2.0.0->ipython>=6.1.0->ipywidgets>=7->nglview) (0.2.6)\n",
      "Requirement already satisfied: prody in /public/shenyx/miniconda3/envs/pytorch/lib/python3.7/site-packages (2.4.1)\n",
      "Requirement already satisfied: numpy<1.24,>=1.10 in /public/shenyx/miniconda3/envs/pytorch/lib/python3.7/site-packages (from prody) (1.21.6)\n",
      "Requirement already satisfied: biopython<=1.79 in /public/shenyx/miniconda3/envs/pytorch/lib/python3.7/site-packages (from prody) (1.79)\n",
      "Requirement already satisfied: pyparsing in /public/shenyx/miniconda3/envs/pytorch/lib/python3.7/site-packages (from prody) (3.1.0)\n",
      "Requirement already satisfied: scipy in /public/shenyx/miniconda3/envs/pytorch/lib/python3.7/site-packages (from prody) (1.7.3)\n",
      "Requirement already satisfied: setuptools in /public/shenyx/miniconda3/envs/pytorch/lib/python3.7/site-packages (from prody) (68.0.0)\n"
     ]
    }
   ],
   "source": [
    "! pip install nglview\n",
    "! pip install prody"
   ]
  },
  {
   "cell_type": "code",
   "execution_count": 1,
   "metadata": {},
   "outputs": [
    {
     "data": {
      "application/vnd.jupyter.widget-view+json": {
       "model_id": "a12eaed5bec0470a87c9a9df2e77d6b1",
       "version_major": 2,
       "version_minor": 0
      },
      "text/plain": []
     },
     "metadata": {},
     "output_type": "display_data"
    }
   ],
   "source": [
    "import nglview as nv\n",
    "from prody import *\n",
    "import numpy as np"
   ]
  },
  {
   "cell_type": "code",
   "execution_count": 14,
   "metadata": {},
   "outputs": [
    {
     "name": "stderr",
     "output_type": "stream",
     "text": [
      "@> 8374 atoms and 1 coordinate set(s) were parsed in 0.14s.\n"
     ]
    },
    {
     "data": {
      "text/plain": [
       "'../data_new/dpos_structure/PA45_gp23_attn.pdb'"
      ]
     },
     "execution_count": 14,
     "metadata": {},
     "output_type": "execute_result"
    }
   ],
   "source": [
    "name = 'PA45_gp23'\n",
    "atoms = parsePDB(f'../data_new/dpos_structure/{name}.pdb', chain='A')\n",
    "\n",
    "residues = atoms.getHierView().iterResidues()\n",
    "\n",
    "#load npz file\n",
    "attn_dict = np.load(f\"../data_new/dpos_structure/attn/attn_npz/{name}.npz\", allow_pickle=True)\n",
    "attn = attn_dict[f'{name}'][1]\n",
    "\n",
    "attn = np.log(attn)\n",
    "\n",
    "attn = (attn - np.min(attn)) / (np.max(attn) - np.min(attn))\n",
    "\n",
    "\n",
    "\n",
    "num_atoms = atoms.numAtoms()\n",
    "new_attn = np.zeros(num_atoms)\n",
    "residue_num = 0\n",
    "# attn = attn[9:] #change the shape of attn to match the number of residues in pdb file\n",
    "\n",
    "for i, residue in enumerate(residues):\n",
    "    residue_num += 1\n",
    "    for atom in residue:\n",
    "        new_attn[atom.getIndex()] = attn[i]\n",
    "\n",
    "atoms.setBetas(new_attn)\n",
    "writePDB(f'../data_new/dpos_structure/{name}_attn.pdb', atoms)"
   ]
  }
 ],
 "metadata": {
  "kernelspec": {
   "display_name": "pytorch",
   "language": "python",
   "name": "python3"
  },
  "language_info": {
   "codemirror_mode": {
    "name": "ipython",
    "version": 3
   },
   "file_extension": ".py",
   "mimetype": "text/x-python",
   "name": "python",
   "nbconvert_exporter": "python",
   "pygments_lexer": "ipython3",
   "version": "3.7.12"
  }
 },
 "nbformat": 4,
 "nbformat_minor": 2
}
